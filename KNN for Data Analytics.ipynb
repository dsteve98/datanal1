{
 "cells": [
  {
   "cell_type": "code",
   "execution_count": 65,
   "metadata": {},
   "outputs": [
    {
     "data": {
      "text/html": [
       "<div>\n",
       "<style scoped>\n",
       "    .dataframe tbody tr th:only-of-type {\n",
       "        vertical-align: middle;\n",
       "    }\n",
       "\n",
       "    .dataframe tbody tr th {\n",
       "        vertical-align: top;\n",
       "    }\n",
       "\n",
       "    .dataframe thead th {\n",
       "        text-align: right;\n",
       "    }\n",
       "</style>\n",
       "<table border=\"1\" class=\"dataframe\">\n",
       "  <thead>\n",
       "    <tr style=\"text-align: right;\">\n",
       "      <th></th>\n",
       "      <th>0</th>\n",
       "      <th>1</th>\n",
       "      <th>2</th>\n",
       "      <th>3</th>\n",
       "      <th>4</th>\n",
       "      <th>5</th>\n",
       "      <th>6</th>\n",
       "      <th>7</th>\n",
       "      <th>8</th>\n",
       "      <th>9</th>\n",
       "      <th>10</th>\n",
       "      <th>11</th>\n",
       "      <th>12</th>\n",
       "      <th>13</th>\n",
       "      <th>14</th>\n",
       "      <th>15</th>\n",
       "    </tr>\n",
       "  </thead>\n",
       "  <tbody>\n",
       "    <tr>\n",
       "      <th>0</th>\n",
       "      <td>-0.703408</td>\n",
       "      <td>-0.800701</td>\n",
       "      <td>-0.272470</td>\n",
       "      <td>-0.527471</td>\n",
       "      <td>-0.084391</td>\n",
       "      <td>-0.128595</td>\n",
       "      <td>0.145725</td>\n",
       "      <td>0.113983</td>\n",
       "      <td>0.034346</td>\n",
       "      <td>-0.106648</td>\n",
       "      <td>-0.219471</td>\n",
       "      <td>0.057260</td>\n",
       "      <td>-0.144193</td>\n",
       "      <td>0.018643</td>\n",
       "      <td>70</td>\n",
       "      <td>20</td>\n",
       "    </tr>\n",
       "    <tr>\n",
       "      <th>1</th>\n",
       "      <td>-0.720228</td>\n",
       "      <td>-0.799086</td>\n",
       "      <td>-0.096582</td>\n",
       "      <td>-0.515072</td>\n",
       "      <td>-0.079762</td>\n",
       "      <td>-0.127677</td>\n",
       "      <td>0.157630</td>\n",
       "      <td>0.103699</td>\n",
       "      <td>0.046460</td>\n",
       "      <td>-0.096983</td>\n",
       "      <td>-0.218963</td>\n",
       "      <td>0.066391</td>\n",
       "      <td>-0.146221</td>\n",
       "      <td>0.008373</td>\n",
       "      <td>40</td>\n",
       "      <td>10</td>\n",
       "    </tr>\n",
       "    <tr>\n",
       "      <th>2</th>\n",
       "      <td>-0.718840</td>\n",
       "      <td>-0.804793</td>\n",
       "      <td>-0.028929</td>\n",
       "      <td>-0.502098</td>\n",
       "      <td>-0.068538</td>\n",
       "      <td>-0.124542</td>\n",
       "      <td>0.168696</td>\n",
       "      <td>0.084694</td>\n",
       "      <td>0.059166</td>\n",
       "      <td>-0.100660</td>\n",
       "      <td>-0.206592</td>\n",
       "      <td>0.075315</td>\n",
       "      <td>-0.127229</td>\n",
       "      <td>0.000225</td>\n",
       "      <td>40</td>\n",
       "      <td>0</td>\n",
       "    </tr>\n",
       "    <tr>\n",
       "      <th>3</th>\n",
       "      <td>-0.721193</td>\n",
       "      <td>-0.814460</td>\n",
       "      <td>-0.480892</td>\n",
       "      <td>-0.474137</td>\n",
       "      <td>-0.071543</td>\n",
       "      <td>-0.125657</td>\n",
       "      <td>0.175398</td>\n",
       "      <td>0.071900</td>\n",
       "      <td>0.061019</td>\n",
       "      <td>-0.089220</td>\n",
       "      <td>-0.198878</td>\n",
       "      <td>0.072975</td>\n",
       "      <td>-0.107643</td>\n",
       "      <td>0.001810</td>\n",
       "      <td>30</td>\n",
       "      <td>0</td>\n",
       "    </tr>\n",
       "    <tr>\n",
       "      <th>4</th>\n",
       "      <td>-0.756089</td>\n",
       "      <td>-0.797935</td>\n",
       "      <td>0.011654</td>\n",
       "      <td>-0.475872</td>\n",
       "      <td>-0.075988</td>\n",
       "      <td>-0.123314</td>\n",
       "      <td>0.182031</td>\n",
       "      <td>0.063575</td>\n",
       "      <td>0.067689</td>\n",
       "      <td>-0.076942</td>\n",
       "      <td>-0.182689</td>\n",
       "      <td>0.068571</td>\n",
       "      <td>-0.104983</td>\n",
       "      <td>0.008335</td>\n",
       "      <td>50</td>\n",
       "      <td>0</td>\n",
       "    </tr>\n",
       "  </tbody>\n",
       "</table>\n",
       "</div>"
      ],
      "text/plain": [
       "          0         1         2         3         4         5         6  \\\n",
       "0 -0.703408 -0.800701 -0.272470 -0.527471 -0.084391 -0.128595  0.145725   \n",
       "1 -0.720228 -0.799086 -0.096582 -0.515072 -0.079762 -0.127677  0.157630   \n",
       "2 -0.718840 -0.804793 -0.028929 -0.502098 -0.068538 -0.124542  0.168696   \n",
       "3 -0.721193 -0.814460 -0.480892 -0.474137 -0.071543 -0.125657  0.175398   \n",
       "4 -0.756089 -0.797935  0.011654 -0.475872 -0.075988 -0.123314  0.182031   \n",
       "\n",
       "          7         8         9        10        11        12        13  14  \\\n",
       "0  0.113983  0.034346 -0.106648 -0.219471  0.057260 -0.144193  0.018643  70   \n",
       "1  0.103699  0.046460 -0.096983 -0.218963  0.066391 -0.146221  0.008373  40   \n",
       "2  0.084694  0.059166 -0.100660 -0.206592  0.075315 -0.127229  0.000225  40   \n",
       "3  0.071900  0.061019 -0.089220 -0.198878  0.072975 -0.107643  0.001810  30   \n",
       "4  0.063575  0.067689 -0.076942 -0.182689  0.068571 -0.104983  0.008335  50   \n",
       "\n",
       "   15  \n",
       "0  20  \n",
       "1  10  \n",
       "2   0  \n",
       "3   0  \n",
       "4   0  "
      ]
     },
     "execution_count": 65,
     "metadata": {},
     "output_type": "execute_result"
    }
   ],
   "source": [
    "import numpy as np  \n",
    "import matplotlib.pyplot as plt  \n",
    "import pandas as pd  \n",
    "\n",
    "dataset = pd.read_csv(\"new_data_training.csv\")\n",
    "dataset.head()"
   ]
  },
  {
   "cell_type": "code",
   "execution_count": 90,
   "metadata": {},
   "outputs": [],
   "source": [
    "X = dataset.iloc[:, :-2].values  \n",
    "y = dataset.iloc[:, 14:].values"
   ]
  },
  {
   "cell_type": "code",
   "execution_count": 91,
   "metadata": {},
   "outputs": [],
   "source": [
    "from sklearn.model_selection import train_test_split  \n",
    "X_train, X_test, y_train, y_test = train_test_split(X, y, test_size=0.20) "
   ]
  },
  {
   "cell_type": "code",
   "execution_count": 92,
   "metadata": {},
   "outputs": [],
   "source": [
    "from sklearn.preprocessing import StandardScaler  \n",
    "scaler = StandardScaler()  \n",
    "scaler.fit(X_train)\n",
    "\n",
    "X_train = scaler.transform(X_train)  \n",
    "X_test = scaler.transform(X_test) "
   ]
  },
  {
   "cell_type": "code",
   "execution_count": 93,
   "metadata": {},
   "outputs": [
    {
     "data": {
      "text/plain": [
       "KNeighborsClassifier(algorithm='auto', leaf_size=30, metric='minkowski',\n",
       "           metric_params=None, n_jobs=None, n_neighbors=11, p=2,\n",
       "           weights='uniform')"
      ]
     },
     "execution_count": 93,
     "metadata": {},
     "output_type": "execute_result"
    }
   ],
   "source": [
    "from sklearn.neighbors import KNeighborsClassifier  \n",
    "classifier = KNeighborsClassifier(n_neighbors=11)  \n",
    "classifier.fit(X_train, y_train)  "
   ]
  },
  {
   "cell_type": "code",
   "execution_count": 94,
   "metadata": {},
   "outputs": [
    {
     "name": "stdout",
     "output_type": "stream",
     "text": [
      "0.4463373083475298\n"
     ]
    }
   ],
   "source": [
    "y_pred = classifier.predict(X_test)  \n",
    "print(np.mean(y_pred != y_test))\n",
    "\n",
    "#df = pd.DataFrame(y_pred)\n",
    "#df.to_csv('hasil.csv', index=False)"
   ]
  },
  {
   "cell_type": "code",
   "execution_count": null,
   "metadata": {},
   "outputs": [],
   "source": []
  },
  {
   "cell_type": "code",
   "execution_count": 87,
   "metadata": {},
   "outputs": [],
   "source": [
    "from sklearn.metrics import classification_report, confusion_matrix  \n",
    "#print(confusion_matrix(y_test, y_pred))  \n",
    "#print(classification_report(y_test, y_pred))  "
   ]
  },
  {
   "cell_type": "code",
   "execution_count": 88,
   "metadata": {},
   "outputs": [],
   "source": [
    "error = []\n",
    "\n",
    "# Calculating error for K values between 1 and 40\n",
    "for i in range(1, 100):  \n",
    "    knn = KNeighborsClassifier(n_neighbors=i)\n",
    "    knn.fit(X_train, y_train)\n",
    "    pred_i = knn.predict(X_test)\n",
    "    error.append(np.mean(pred_i != y_test))"
   ]
  },
  {
   "cell_type": "code",
   "execution_count": 73,
   "metadata": {},
   "outputs": [
    {
     "data": {
      "text/plain": [
       "Text(0, 0.5, 'Mean Error')"
      ]
     },
     "execution_count": 73,
     "metadata": {},
     "output_type": "execute_result"
    },
    {
     "data": {
      "image/png": "[encoded data removed]",
      "text/plain": [
       "<Figure size 864x432 with 1 Axes>"
      ]
     },
     "metadata": {
      "needs_background": "light"
     },
     "output_type": "display_data"
    }
   ],
   "source": [
    "plt.figure(figsize=(12, 6))  \n",
    "plt.plot(range(1, 100), error, color='red', linestyle='dashed', marker='o',  \n",
    "         markerfacecolor='blue', markersize=10)\n",
    "plt.title('Error Rate K Value')  \n",
    "plt.xlabel('K Value')  \n",
    "plt.ylabel('Mean Error')  "
   ]
  },
  {
   "cell_type": "code",
   "execution_count": 17,
   "metadata": {},
   "outputs": [
    {
     "name": "stdout",
     "output_type": "stream",
     "text": [
      "[[ 90   0]\n",
      " [110   0]\n",
      " [ 70  20]\n",
      " ...\n",
      " [ 40   0]\n",
      " [350   0]\n",
      " [ 60  10]]\n"
     ]
    }
   ],
   "source": [
    "print(y_pred)"
   ]
  },
  {
   "cell_type": "code",
   "execution_count": null,
   "metadata": {},
   "outputs": [],
   "source": []
  }
 ],
 "metadata": {
  "kernelspec": {
   "display_name": "Python 3",
   "language": "python",
   "name": "python3"
  },
  "language_info": {
   "codemirror_mode": {
    "name": "ipython",
    "version": 3
   },
   "file_extension": ".py",
   "mimetype": "text/x-python",
   "name": "python",
   "nbconvert_exporter": "python",
   "pygments_lexer": "ipython3",
   "version": "3.7.1"
  }
 },
 "nbformat": 4,
 "nbformat_minor": 2
}
